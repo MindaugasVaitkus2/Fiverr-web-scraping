{
  "nbformat": 4,
  "nbformat_minor": 0,
  "metadata": {
    "colab": {
      "name": "Fiverr",
      "provenance": [],
      "collapsed_sections": [],
      "authorship_tag": "ABX9TyOPxfm6GuqrV4hzwKICduRJ"
    },
    "kernelspec": {
      "name": "python3",
      "display_name": "Python 3"
    }
  },
  "cells": [
    {
      "cell_type": "code",
      "metadata": {
        "id": "n2FUz6JXpkse",
        "colab_type": "code",
        "colab": {}
      },
      "source": [
        "from bs4 import BeautifulSoup\n",
        "import requests\n",
        "import re\n",
        "import pandas as pd\n",
        "#mount google drive path\n",
        "from google.colab import drive\n",
        "drive.mount('/drive')\n",
        " \n",
        " #common header - to avoid bot detection from websites\n",
        "header = {'User-Agent': 'Mozilla/5.0 (Windows NT 6.1; WOW64; rv:20.0) Gecko/20100101 Firefox/20.0'}\n",
        " #varied request header\n",
        "headers1 = {\n",
        "        'user-agent': 'Mozilla/5.0 (Macintosh; Intel Mac OS X 10_11_6) AppleWebKit/537.36 (KHTML, like Gecko) Chrome/56.0.2924.87 Safari/537.36',\n",
        "        'referrer': 'https://google.com',\n",
        "        'Accept': 'text/html,application/xhtml+xml,application/xml;q=0.9,image/webp,image/apng,*/*;q=0.8',\n",
        "        'Accept-Encoding': 'gzip, deflate, br',\n",
        "        'Accept-Language': 'en-US,en;q=0.9',\n",
        "        'Pragma': 'no-cache',\n",
        "    }\n",
        "\n",
        "#web_link='https://www.fiverr.com/search/gigs?query=market%20research&source=top-bar&acmpl=1&search_in=everywhere&search-autocomplete-original-term=&search-autocomplete-available=true&search-autocomplete-type=recent-gigs-suggest&search-autocomplete-position=0'\n",
        "web_link='https://www.fiverr.com/search/gigs?query=market%20research&pos=1&context=recommendation&context_alg=related_search_terms&source=related_search_terms&filter=rating'\n",
        "urls=requests.get(web_link, headers=headers1)\n",
        " \n",
        "#soup object creation from url content. lxml is an html parser. Variants are html.parser, lxml, html5 \n",
        "soup=BeautifulSoup(urls.content, 'lxml')"
      ],
      "execution_count": null,
      "outputs": []
    },
    {
      "cell_type": "code",
      "metadata": {
        "id": "fOLk_zI6it4E",
        "colab_type": "code",
        "colab": {}
      },
      "source": [
        "print(soup)"
      ],
      "execution_count": null,
      "outputs": []
    },
    {
      "cell_type": "markdown",
      "metadata": {
        "id": "r-2vLpcNyfFd",
        "colab_type": "text"
      },
      "source": [
        "![alt text](https://www.fiverr.com/search/gigs?query=market%20research&pos=1&context=recommendation&context_alg=related_search_terms&source=related_search_terms&filter=rating)\n",
        "\n",
        "\n",
        "Fiver page screenshot"
      ]
    },
    {
      "cell_type": "code",
      "metadata": {
        "id": "kDOa_tpd3hEa",
        "colab_type": "code",
        "colab": {
          "base_uri": "https://localhost:8080/",
          "height": 141
        },
        "outputId": "c805d243-de8a-423b-f81d-3f979d191c8e"
      },
      "source": [
        " \n",
        "mylist=[]\n",
        " \n",
        " #iterating through all the tags with gig-wrapper-card. In fiverr\n",
        "for seller_parent in soup.find_all(name='div', class_='gig-wrapper card'):\n",
        " \n",
        "  list1=[]\n",
        "  #each gig has a unique gig ID\n",
        "  id=seller_parent.attrs['data-gig-id']\n",
        "  #name-object contains name, seller-level and seller level hint\n",
        "  seller_name_object=seller_parent.find('span', class_='seller-name')\n",
        "  name=seller_name_object.a.text[3:]\n",
        "  #catches certain excemptions where seller hint and seller level is empty for gigs\n",
        "  try:\n",
        "    seller_hint=seller_name_object.find_all('span')[1].attrs['data-hint']\n",
        "  except IndexError:\n",
        "    seller_hint='None'\n",
        "  try:\n",
        "    seller_level=seller_name_object.find_all('span')[1].text\n",
        "  except:\n",
        "    seller_level=0\n",
        "  #contains seller link description\n",
        "  link_description=(seller_parent.find('h3').text)\n",
        "  #link to gig \n",
        "  link=('https://fiver.com'+seller_parent.find('h3').a.attrs['href'])\n",
        "  #ratings in format  avg ratings (total_ratings)\n",
        "  ratings=seller_parent.find('span', class_='gig-rating text-body-2').text\n",
        "  #starting price for the gig\n",
        "  starting_price=seller_parent.footer.find('a', class_='price')['title']\n",
        "  list1=[id, name, ratings, seller_level, starting_price, link, link_description, seller_hint]\n",
        "  print(list1)\n",
        "  mylist.append(list1)"
      ],
      "execution_count": null,
      "outputs": [
        {
          "output_type": "stream",
          "text": [
            "['151430837_1', 'vesgaje', '5.0(15)', 0, '$65', 'https://fiver.com/vesgaje/deliver-valuable-market-research-comprehensive-and-concise?context_referrer=search_gigs&source=related_search_terms&ref_ctx_id=772bc0f7-d7af-405d-a120-fcf0ccee80c0&pckg_id=1&pos=2', 'I will deliver valuable market research, comprehensive and concise', 'None']\n",
            "['114064784_2', 'sasha_quality', '5.0(317)', 'Level 2 Seller', '$20', 'https://fiver.com/sasha_quality/assist-in-internet-research-and-writing?context_referrer=search_gigs&source=related_search_terms&ref_ctx_id=772bc0f7-d7af-405d-a120-fcf0ccee80c0&pckg_id=1&pos=3', 'I will assist in online, market research and business research', 'Completed at least 50 orders on time with a minimum 4.8 rating']\n",
            "['147613610_3', 'mary_proarticle', '5.0(28)', 0, '$60', 'https://fiver.com/mary_proarticle/build-comprehensive-market-research-competitor-analysis-business-plan-web-report?context_referrer=search_gigs&source=related_search_terms&ref_ctx_id=772bc0f7-d7af-405d-a120-fcf0ccee80c0&pckg_id=1&pos=4', 'I will build comprehensive market research competitor analysis business plan web report', 'None']\n",
            "['162665799_4', 'funkgroup', '5.0(9)', '', '$20', 'https://fiver.com/funkgroup/deliver-comprehensive-and-personalized-market-research?context_referrer=search_gigs&source=related_search_terms&ref_ctx_id=772bc0f7-d7af-405d-a120-fcf0ccee80c0&pckg_id=1&pos=5', 'I will deliver comprehensive and personalized market research', '']\n",
            "['135981233_5', 'tushi_marketpro', '5.0(154)', 'Level 2 Seller', '$60', 'https://fiver.com/tushi_marketpro/make-comprehensive-market-research-competitor-analysis-business-plan-report?context_referrer=search_gigs&source=related_search_terms&ref_ctx_id=772bc0f7-d7af-405d-a120-fcf0ccee80c0&pckg_id=1&pos=6', 'I will make comprehensive market research competitor analysis business plan report', 'Completed at least 50 orders on time with a minimum 4.8 rating']\n",
            "['12196674_7', 'rahul2111', '4.9(407)', 'Top Rated Seller', '$100', 'https://fiver.com/rahul2111/do-market-research-for-any-product?context_referrer=search_gigs&source=related_search_terms&ref_ctx_id=772bc0f7-d7af-405d-a120-fcf0ccee80c0&pckg_id=1&pos=8&fiverr_choice=true', 'I will do a comprehensive market research', 'Vetted by Fiverr and completed at least 100 orders on time with a minimum 4.8 rating']\n"
          ],
          "name": "stdout"
        }
      ]
    },
    {
      "cell_type": "markdown",
      "metadata": {
        "id": "wnB2CJM-EEwd",
        "colab_type": "text"
      },
      "source": [
        "Headers: Id, Name, rating, seller_level, starting_price ,Link,link_description, seller_hint"
      ]
    },
    {
      "cell_type": "code",
      "metadata": {
        "id": "yWoysh7D_XcU",
        "colab_type": "code",
        "colab": {
          "base_uri": "https://localhost:8080/",
          "height": 185
        },
        "outputId": "aeda4f1c-8e56-407a-fd73-5d16eed4cdd5"
      },
      "source": [
        "\n",
        "#column name headers for the dataframe to be created\n",
        "column_names=['id','name','rating','seller_level','starting_price','link','link_description','seller_hint']\n",
        "df=pd.DataFrame(mylist, columns=column_names)\n",
        "\n",
        "print(df)\n",
        "#saves dataframe to googledrive link given. Appends if file already exists\n",
        "df.to_csv('/drive/My Drive/Colab Notebooks/foo.csv', mode='a', header=False)"
      ],
      "execution_count": null,
      "outputs": [
        {
          "output_type": "stream",
          "text": [
            "Drive already mounted at /drive; to attempt to forcibly remount, call drive.mount(\"/drive\", force_remount=True).\n",
            "            id  ...                                        seller_hint\n",
            "0  151430837_1  ...                                               None\n",
            "1  114064784_2  ...  Completed at least 50 orders on time with a mi...\n",
            "2  147613610_3  ...                                               None\n",
            "3  162665799_4  ...                                                   \n",
            "4  135981233_5  ...  Completed at least 50 orders on time with a mi...\n",
            "5   12196674_7  ...  Vetted by Fiverr and completed at least 100 or...\n",
            "\n",
            "[6 rows x 8 columns]\n"
          ],
          "name": "stdout"
        }
      ]
    },
    {
      "cell_type": "code",
      "metadata": {
        "id": "4TL34uWrg_BZ",
        "colab_type": "code",
        "colab": {}
      },
      "source": [
        ""
      ],
      "execution_count": null,
      "outputs": []
    },
    {
      "cell_type": "markdown",
      "metadata": {
        "id": "eIFxFSQexHGd",
        "colab_type": "text"
      },
      "source": [
        ""
      ]
    }
  ]
}